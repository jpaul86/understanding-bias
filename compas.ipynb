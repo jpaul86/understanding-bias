{
 "cells": [
  {
   "cell_type": "markdown",
   "metadata": {},
   "source": [
    "This notebook borrows code and logic from the following sources: \n",
    "- https://github.com/propublica/compas-analysis \n",
    "- https://investigate.ai/propublica-criminal-sentencing/week-5-1-machine-bias-class/\n"
   ]
  },
  {
   "cell_type": "code",
   "execution_count": null,
   "metadata": {},
   "outputs": [],
   "source": [
    "import pandas as pd\n",
    "import numpy as np\n",
    "import seaborn as sns\n",
    "import matplotlib.pyplot as plt\n",
    "from sklearn.linear_model import LogisticRegression\n",
    "from sklearn.metrics import det_curve"
   ]
  },
  {
   "cell_type": "markdown",
   "metadata": {},
   "source": [
    "# 1. Data Preparation"
   ]
  },
  {
   "cell_type": "markdown",
   "metadata": {},
   "source": [
    "Data preparation follows the steps described in Propublica's own implementation:"
   ]
  },
  {
   "cell_type": "code",
   "execution_count": 2,
   "metadata": {},
   "outputs": [],
   "source": [
    "url = 'https://raw.githubusercontent.com/propublica/compas-analysis/master/compas-scores-two-years.csv'\n",
    "raw = pd.read_csv(url)"
   ]
  },
  {
   "cell_type": "code",
   "execution_count": 4,
   "metadata": {},
   "outputs": [
    {
     "data": {
      "text/html": [
       "<div>\n",
       "<style scoped>\n",
       "    .dataframe tbody tr th:only-of-type {\n",
       "        vertical-align: middle;\n",
       "    }\n",
       "\n",
       "    .dataframe tbody tr th {\n",
       "        vertical-align: top;\n",
       "    }\n",
       "\n",
       "    .dataframe thead th {\n",
       "        text-align: right;\n",
       "    }\n",
       "</style>\n",
       "<table border=\"1\" class=\"dataframe\">\n",
       "  <thead>\n",
       "    <tr style=\"text-align: right;\">\n",
       "      <th></th>\n",
       "      <th>index</th>\n",
       "      <th>age</th>\n",
       "      <th>c_charge_degree</th>\n",
       "      <th>race</th>\n",
       "      <th>age_cat</th>\n",
       "      <th>score_text</th>\n",
       "      <th>sex</th>\n",
       "      <th>priors_count</th>\n",
       "      <th>days_b_screening_arrest</th>\n",
       "      <th>decile_score</th>\n",
       "      <th>is_recid</th>\n",
       "      <th>two_year_recid</th>\n",
       "      <th>c_jail_in</th>\n",
       "      <th>c_jail_out</th>\n",
       "    </tr>\n",
       "  </thead>\n",
       "  <tbody>\n",
       "    <tr>\n",
       "      <th>0</th>\n",
       "      <td>0</td>\n",
       "      <td>69</td>\n",
       "      <td>F</td>\n",
       "      <td>Other</td>\n",
       "      <td>Greater than 45</td>\n",
       "      <td>Low</td>\n",
       "      <td>Male</td>\n",
       "      <td>0</td>\n",
       "      <td>-1.0</td>\n",
       "      <td>1</td>\n",
       "      <td>0</td>\n",
       "      <td>0</td>\n",
       "      <td>2013-08-13 06:03:42</td>\n",
       "      <td>2013-08-14 05:41:20</td>\n",
       "    </tr>\n",
       "    <tr>\n",
       "      <th>1</th>\n",
       "      <td>1</td>\n",
       "      <td>34</td>\n",
       "      <td>F</td>\n",
       "      <td>African-American</td>\n",
       "      <td>25 - 45</td>\n",
       "      <td>Low</td>\n",
       "      <td>Male</td>\n",
       "      <td>0</td>\n",
       "      <td>-1.0</td>\n",
       "      <td>3</td>\n",
       "      <td>1</td>\n",
       "      <td>1</td>\n",
       "      <td>2013-01-26 03:45:27</td>\n",
       "      <td>2013-02-05 05:36:53</td>\n",
       "    </tr>\n",
       "    <tr>\n",
       "      <th>2</th>\n",
       "      <td>2</td>\n",
       "      <td>24</td>\n",
       "      <td>F</td>\n",
       "      <td>African-American</td>\n",
       "      <td>Less than 25</td>\n",
       "      <td>Low</td>\n",
       "      <td>Male</td>\n",
       "      <td>4</td>\n",
       "      <td>-1.0</td>\n",
       "      <td>4</td>\n",
       "      <td>1</td>\n",
       "      <td>1</td>\n",
       "      <td>2013-04-13 04:58:34</td>\n",
       "      <td>2013-04-14 07:02:04</td>\n",
       "    </tr>\n",
       "    <tr>\n",
       "      <th>3</th>\n",
       "      <td>5</td>\n",
       "      <td>44</td>\n",
       "      <td>M</td>\n",
       "      <td>Other</td>\n",
       "      <td>25 - 45</td>\n",
       "      <td>Low</td>\n",
       "      <td>Male</td>\n",
       "      <td>0</td>\n",
       "      <td>0.0</td>\n",
       "      <td>1</td>\n",
       "      <td>0</td>\n",
       "      <td>0</td>\n",
       "      <td>2013-11-30 04:50:18</td>\n",
       "      <td>2013-12-01 12:28:56</td>\n",
       "    </tr>\n",
       "    <tr>\n",
       "      <th>4</th>\n",
       "      <td>6</td>\n",
       "      <td>41</td>\n",
       "      <td>F</td>\n",
       "      <td>Caucasian</td>\n",
       "      <td>25 - 45</td>\n",
       "      <td>Medium</td>\n",
       "      <td>Male</td>\n",
       "      <td>14</td>\n",
       "      <td>-1.0</td>\n",
       "      <td>6</td>\n",
       "      <td>1</td>\n",
       "      <td>1</td>\n",
       "      <td>2014-02-18 05:08:24</td>\n",
       "      <td>2014-02-24 12:18:30</td>\n",
       "    </tr>\n",
       "  </tbody>\n",
       "</table>\n",
       "</div>"
      ],
      "text/plain": [
       "   index  age c_charge_degree              race          age_cat score_text  \\\n",
       "0      0   69               F             Other  Greater than 45        Low   \n",
       "1      1   34               F  African-American          25 - 45        Low   \n",
       "2      2   24               F  African-American     Less than 25        Low   \n",
       "3      5   44               M             Other          25 - 45        Low   \n",
       "4      6   41               F         Caucasian          25 - 45     Medium   \n",
       "\n",
       "    sex  priors_count  days_b_screening_arrest  decile_score  is_recid  \\\n",
       "0  Male             0                     -1.0             1         0   \n",
       "1  Male             0                     -1.0             3         1   \n",
       "2  Male             4                     -1.0             4         1   \n",
       "3  Male             0                      0.0             1         0   \n",
       "4  Male            14                     -1.0             6         1   \n",
       "\n",
       "   two_year_recid            c_jail_in           c_jail_out  \n",
       "0               0  2013-08-13 06:03:42  2013-08-14 05:41:20  \n",
       "1               1  2013-01-26 03:45:27  2013-02-05 05:36:53  \n",
       "2               1  2013-04-13 04:58:34  2013-04-14 07:02:04  \n",
       "3               0  2013-11-30 04:50:18  2013-12-01 12:28:56  \n",
       "4               1  2014-02-18 05:08:24  2014-02-24 12:18:30  "
      ]
     },
     "execution_count": 4,
     "metadata": {},
     "output_type": "execute_result"
    }
   ],
   "source": [
    "cols = ['age', 'c_charge_degree', 'race', 'age_cat', 'score_text', 'sex', \n",
    "    'priors_count', 'days_b_screening_arrest', 'decile_score', 'is_recid', 'two_year_recid', 'c_jail_in', 'c_jail_out']\n",
    "df = raw.loc[\n",
    "    (raw.days_b_screening_arrest <= 30) &  \n",
    "    (raw.days_b_screening_arrest >= -30) &  \n",
    "    (raw.is_recid != -1) &\n",
    "    (raw.c_charge_degree != 'O') &\n",
    "    (raw.score_text != 'N/A'),\n",
    "    cols].reset_index()\n",
    "df.head()"
   ]
  },
  {
   "cell_type": "markdown",
   "metadata": {},
   "source": [
    "# 2. Data understanding"
   ]
  },
  {
   "cell_type": "markdown",
   "metadata": {},
   "source": [
    "## 2.1 COMPAS Scores"
   ]
  },
  {
   "cell_type": "markdown",
   "metadata": {},
   "source": [
    "The `decile_score` measures on a scale between 1 (low) and 10 (high) the risk of recidivism of defendants. It was calculated by the company Northpointe as part of their product **COMPAS** (Correctional Offender Management Profiling for Alternative Sanctions). The algorithm used by Northpointe is not publicly known. "
   ]
  },
  {
   "cell_type": "code",
   "execution_count": 5,
   "metadata": {},
   "outputs": [
    {
     "data": {
      "image/png": "[encoded data removed]",
      "text/plain": [
       "<Figure size 432x288 with 1 Axes>"
      ]
     },
     "metadata": {
      "needs_background": "light"
     },
     "output_type": "display_data"
    }
   ],
   "source": [
    "sns.countplot(x='decile_score', hue='score_text', data = df);"
   ]
  },
  {
   "cell_type": "code",
   "execution_count": 6,
   "metadata": {},
   "outputs": [
    {
     "data": {
      "image/png": "[encoded data removed]",
      "text/plain": [
       "<Figure size 432x288 with 1 Axes>"
      ]
     },
     "metadata": {
      "needs_background": "light"
     },
     "output_type": "display_data"
    }
   ],
   "source": [
    "sns.countplot(x='decile_score', hue='race', data=df[(df.race.isin(['African-American','Caucasian']))]);"
   ]
  },
  {
   "cell_type": "markdown",
   "metadata": {},
   "source": [
    "## 2.2. Actual Recidivism "
   ]
  },
  {
   "cell_type": "markdown",
   "metadata": {},
   "source": [
    "The binary variable `two_year_recid` measures whether defendants have recidivated within the two years following the original imprisonment. Recidividating requires a crime that again leads to imprisonment. "
   ]
  },
  {
   "cell_type": "code",
   "execution_count": 44,
   "metadata": {},
   "outputs": [
    {
     "data": {
      "image/png": "[encoded data removed]",
      "text/plain": [
       "<Figure size 432x288 with 1 Axes>"
      ]
     },
     "metadata": {
      "needs_background": "light"
     },
     "output_type": "display_data"
    }
   ],
   "source": [
    "sns.countplot(x='two_year_recid', data = df);"
   ]
  },
  {
   "cell_type": "markdown",
   "metadata": {},
   "source": [
    "What is the fraction of defendants who recidivate within 2 years for the different races? In a perfect world (with true **equality of opportunities**), we would expect these rates to be identical across races. This is, we would expect **equality of outcomes**."
   ]
  },
  {
   "cell_type": "code",
   "execution_count": 7,
   "metadata": {},
   "outputs": [
    {
     "data": {
      "text/html": [
       "<div>\n",
       "<style scoped>\n",
       "    .dataframe tbody tr th:only-of-type {\n",
       "        vertical-align: middle;\n",
       "    }\n",
       "\n",
       "    .dataframe tbody tr th {\n",
       "        vertical-align: top;\n",
       "    }\n",
       "\n",
       "    .dataframe thead th {\n",
       "        text-align: right;\n",
       "    }\n",
       "</style>\n",
       "<table border=\"1\" class=\"dataframe\">\n",
       "  <thead>\n",
       "    <tr style=\"text-align: right;\">\n",
       "      <th>two_year_recid</th>\n",
       "      <th>0</th>\n",
       "      <th>1</th>\n",
       "      <th>rate</th>\n",
       "    </tr>\n",
       "    <tr>\n",
       "      <th>race</th>\n",
       "      <th></th>\n",
       "      <th></th>\n",
       "      <th></th>\n",
       "    </tr>\n",
       "  </thead>\n",
       "  <tbody>\n",
       "    <tr>\n",
       "      <th>African-American</th>\n",
       "      <td>1514</td>\n",
       "      <td>1661</td>\n",
       "      <td>0.523150</td>\n",
       "    </tr>\n",
       "    <tr>\n",
       "      <th>Asian</th>\n",
       "      <td>23</td>\n",
       "      <td>8</td>\n",
       "      <td>0.258065</td>\n",
       "    </tr>\n",
       "    <tr>\n",
       "      <th>Caucasian</th>\n",
       "      <td>1281</td>\n",
       "      <td>822</td>\n",
       "      <td>0.390870</td>\n",
       "    </tr>\n",
       "    <tr>\n",
       "      <th>Hispanic</th>\n",
       "      <td>320</td>\n",
       "      <td>189</td>\n",
       "      <td>0.371316</td>\n",
       "    </tr>\n",
       "    <tr>\n",
       "      <th>Native American</th>\n",
       "      <td>6</td>\n",
       "      <td>5</td>\n",
       "      <td>0.454545</td>\n",
       "    </tr>\n",
       "    <tr>\n",
       "      <th>Other</th>\n",
       "      <td>219</td>\n",
       "      <td>124</td>\n",
       "      <td>0.361516</td>\n",
       "    </tr>\n",
       "  </tbody>\n",
       "</table>\n",
       "</div>"
      ],
      "text/plain": [
       "two_year_recid       0     1      rate\n",
       "race                                  \n",
       "African-American  1514  1661  0.523150\n",
       "Asian               23     8  0.258065\n",
       "Caucasian         1281   822  0.390870\n",
       "Hispanic           320   189  0.371316\n",
       "Native American      6     5  0.454545\n",
       "Other              219   124  0.361516"
      ]
     },
     "execution_count": 7,
     "metadata": {},
     "output_type": "execute_result"
    }
   ],
   "source": [
    "recid_race = pd.crosstab(df.race, df.two_year_recid)\n",
    "recid_race['rate'] = recid_race[1] / recid_race.sum(axis=1)\n",
    "recid_race"
   ]
  },
  {
   "cell_type": "markdown",
   "metadata": {},
   "source": [
    "## 2.3 Compas Score and actual recidivism "
   ]
  },
  {
   "cell_type": "markdown",
   "metadata": {},
   "source": [
    "Calibrated probabilities: for a given decile score, the actual recidivism rates increase monotonically, and - approximatly - a 1 percentage point increase in the decile score corresponds to a 1 percentage point increase in actual recidivism."
   ]
  },
  {
   "cell_type": "code",
   "execution_count": 9,
   "metadata": {},
   "outputs": [
    {
     "data": {
      "image/png": "[encoded data removed]",
      "text/plain": [
       "<Figure size 432x288 with 1 Axes>"
      ]
     },
     "metadata": {
      "needs_background": "light"
     },
     "output_type": "display_data"
    }
   ],
   "source": [
    "p = df.groupby('decile_score').agg({'two_year_recid': 'mean'}).reset_index()\n",
    "sns.lineplot(data = p, x='decile_score', y = 'two_year_recid');\n",
    "sns.scatterplot(data = p, x='decile_score', y = 'two_year_recid', legend=None);"
   ]
  },
  {
   "cell_type": "markdown",
   "metadata": {},
   "source": [
    " In this regard there are no strong systemmatic differences between blacks and whites."
   ]
  },
  {
   "cell_type": "code",
   "execution_count": 46,
   "metadata": {},
   "outputs": [
    {
     "data": {
      "image/png": "[encoded data removed]",
      "text/plain": [
       "<Figure size 432x288 with 1 Axes>"
      ]
     },
     "metadata": {
      "needs_background": "light"
     },
     "output_type": "display_data"
    }
   ],
   "source": [
    "p = df[df.race.isin([\"African-American\",\"Caucasian\"])].groupby(['decile_score','race']).agg({'two_year_recid': 'mean'}).reset_index()\n",
    "sns.lineplot(data = p, x='decile_score', y = 'two_year_recid', hue='race');\n",
    "sns.scatterplot(data = p, x='decile_score', y = 'two_year_recid', hue='race', legend=None);"
   ]
  },
  {
   "cell_type": "markdown",
   "metadata": {},
   "source": [
    "For given actual recidivism state, we observe differences between black and white defendants:\n",
    "- Black defendants who do not recidivate receive on average a higher compas score than whites. They are thus more often mis-classified as dangerous and put into jail.\n",
    "- White reoffenders receive on average a lower compas score than black reoffenders. Hence, they will be more often mis-classified and wrongly set free. "
   ]
  },
  {
   "cell_type": "code",
   "execution_count": 10,
   "metadata": {},
   "outputs": [
    {
     "data": {
      "image/png": "[encoded data removed]",
      "text/plain": [
       "<Figure size 432x288 with 1 Axes>"
      ]
     },
     "metadata": {
      "needs_background": "light"
     },
     "output_type": "display_data"
    }
   ],
   "source": [
    "p = df[df.race.isin([\"African-American\",\"Caucasian\"])].groupby(['race','two_year_recid']).agg({'decile_score': 'mean'}).reset_index()\n",
    "sns.barplot(data = p, y='decile_score', x = 'two_year_recid', hue='race');"
   ]
  },
  {
   "cell_type": "markdown",
   "metadata": {},
   "source": [
    "## 2.4 Confusion matrix and evaluation metrics"
   ]
  },
  {
   "cell_type": "markdown",
   "metadata": {},
   "source": [
    "We set a threshold (5) for the decile score. Defendants with compas scores at or above the threshold are considered medium to high risk of recidivism. This score might be taken to deny them bail."
   ]
  },
  {
   "cell_type": "code",
   "execution_count": 11,
   "metadata": {},
   "outputs": [
    {
     "data": {
      "text/html": [
       "<div>\n",
       "<style scoped>\n",
       "    .dataframe tbody tr th:only-of-type {\n",
       "        vertical-align: middle;\n",
       "    }\n",
       "\n",
       "    .dataframe tbody tr th {\n",
       "        vertical-align: top;\n",
       "    }\n",
       "\n",
       "    .dataframe thead th {\n",
       "        text-align: right;\n",
       "    }\n",
       "</style>\n",
       "<table border=\"1\" class=\"dataframe\">\n",
       "  <thead>\n",
       "    <tr style=\"text-align: right;\">\n",
       "      <th>guessed_recid</th>\n",
       "      <th>False</th>\n",
       "      <th>True</th>\n",
       "      <th>All</th>\n",
       "    </tr>\n",
       "    <tr>\n",
       "      <th>actual_recid</th>\n",
       "      <th></th>\n",
       "      <th></th>\n",
       "      <th></th>\n",
       "    </tr>\n",
       "  </thead>\n",
       "  <tbody>\n",
       "    <tr>\n",
       "      <th>False</th>\n",
       "      <td>2345</td>\n",
       "      <td>1018</td>\n",
       "      <td>3363</td>\n",
       "    </tr>\n",
       "    <tr>\n",
       "      <th>True</th>\n",
       "      <td>1076</td>\n",
       "      <td>1733</td>\n",
       "      <td>2809</td>\n",
       "    </tr>\n",
       "    <tr>\n",
       "      <th>All</th>\n",
       "      <td>3421</td>\n",
       "      <td>2751</td>\n",
       "      <td>6172</td>\n",
       "    </tr>\n",
       "  </tbody>\n",
       "</table>\n",
       "</div>"
      ],
      "text/plain": [
       "guessed_recid  False  True   All\n",
       "actual_recid                    \n",
       "False           2345  1018  3363\n",
       "True            1076  1733  2809\n",
       "All             3421  2751  6172"
      ]
     },
     "execution_count": 11,
     "metadata": {},
     "output_type": "execute_result"
    }
   ],
   "source": [
    "threshold = 5\n",
    "df['guessed_recid'] = df.decile_score>=threshold\n",
    "df['actual_recid'] = df.two_year_recid == 1\n",
    "cm = pd.crosstab(df.actual_recid, df.guessed_recid, margins=True)\n",
    "cm"
   ]
  },
  {
   "cell_type": "code",
   "execution_count": 17,
   "metadata": {},
   "outputs": [
    {
     "name": "stdout",
     "output_type": "stream",
     "text": [
      "Accuracy:  0.6607258587167855\n",
      "Faction of people classified correctly.\n",
      "\n",
      "False Positive Rate:  0.30270591733571217\n",
      "Fraction of actually harmless people that we (wrongly) take away their freedom.\n",
      "\n",
      "False Negative Rate:  0.38305446778212887\n",
      "Faction of actually dangerous people that we (wrongly) set free.\n",
      "\n",
      "Positive Predicted Value:  0.6299527444565612\n",
      "Faction of people predicted dangerous, that are in fact dangerous.\n"
     ]
    }
   ],
   "source": [
    "print(\"Accuracy: \", (1733+2345) / 6172)\n",
    "print(\"Faction of people classified correctly.\", end='\\n\\n')\n",
    "\n",
    "print(\"False Positive Rate: \", 1018 / 3363)  \n",
    "print(\"Fraction of actually harmless people that we (wrongly) take away their freedom.\", end='\\n\\n')\n",
    "\n",
    "print(\"False Negative Rate: \", 1076 / 2809)\n",
    "print(\"Faction of actually dangerous people that we (wrongly) set free.\", end='\\n\\n')\n",
    "\n",
    "print(\"Positive Predicted Value: \", 1733 / 2751)\n",
    "print(\"Faction of people predicted dangerous, that are in fact dangerous.\")"
   ]
  },
  {
   "cell_type": "code",
   "execution_count": 33,
   "metadata": {},
   "outputs": [],
   "source": [
    "def eval_metrics(df, actual, guessed):\n",
    "\n",
    "    cm = pd.crosstab(df[actual], df[guessed], rownames=['actual'], colnames=['guessed'])\n",
    "    TP = cm.loc[1,1]     # Guessed positive and actual positive\n",
    "    FP = cm.loc[0,1]     # Guessed positive and actual negative (-> false guess)\n",
    "    TN = cm.loc[0,0]     # Guessed negative and actual negative\n",
    "    FN = cm.loc[1,0]     # Guessed negative and actual positive (-> false guess)\n",
    "    metrics = pd.Series({\n",
    "        'Accuracy':(TN+TP)/(TN+TP+FN+FP),\n",
    "        'PPV': TP / (TP + FP),\n",
    "        'FPR': FP / (FP + TN),\n",
    "        'FNR': FN / (FN + TP)})\n",
    "    return metrics\n",
    "    "
   ]
  },
  {
   "cell_type": "markdown",
   "metadata": {},
   "source": [
    "While the accuracy and the positive predicted values are largely the same for white and black defendants, we observe huge differences with respect to false positive rates and false negative rates: 1) black defandants who do not recidivate are more often mis-classified than whites (FPR) and 2) white reoffenders are more often mis-classified as harmless than black reoffenders (FNR). "
   ]
  },
  {
   "cell_type": "code",
   "execution_count": 34,
   "metadata": {},
   "outputs": [
    {
     "data": {
      "text/html": [
       "<div>\n",
       "<style scoped>\n",
       "    .dataframe tbody tr th:only-of-type {\n",
       "        vertical-align: middle;\n",
       "    }\n",
       "\n",
       "    .dataframe tbody tr th {\n",
       "        vertical-align: top;\n",
       "    }\n",
       "\n",
       "    .dataframe thead th {\n",
       "        text-align: right;\n",
       "    }\n",
       "</style>\n",
       "<table border=\"1\" class=\"dataframe\">\n",
       "  <thead>\n",
       "    <tr style=\"text-align: right;\">\n",
       "      <th>race</th>\n",
       "      <th>African-American</th>\n",
       "      <th>Caucasian</th>\n",
       "    </tr>\n",
       "  </thead>\n",
       "  <tbody>\n",
       "    <tr>\n",
       "      <th>Accuracy</th>\n",
       "      <td>0.65</td>\n",
       "      <td>0.67</td>\n",
       "    </tr>\n",
       "    <tr>\n",
       "      <th>PPV</th>\n",
       "      <td>0.65</td>\n",
       "      <td>0.59</td>\n",
       "    </tr>\n",
       "    <tr>\n",
       "      <th>FPR</th>\n",
       "      <td>0.42</td>\n",
       "      <td>0.22</td>\n",
       "    </tr>\n",
       "    <tr>\n",
       "      <th>FNR</th>\n",
       "      <td>0.28</td>\n",
       "      <td>0.50</td>\n",
       "    </tr>\n",
       "  </tbody>\n",
       "</table>\n",
       "</div>"
      ],
      "text/plain": [
       "race      African-American  Caucasian\n",
       "Accuracy              0.65       0.67\n",
       "PPV                   0.65       0.59\n",
       "FPR                   0.42       0.22\n",
       "FNR                   0.28       0.50"
      ]
     },
     "execution_count": 34,
     "metadata": {},
     "output_type": "execute_result"
    }
   ],
   "source": [
    "df[df.race.isin(['African-American','Caucasian'])].groupby(\"race\").apply(eval_metrics, \"actual_recid\", \"guessed_recid\").round(2).T"
   ]
  },
  {
   "cell_type": "markdown",
   "metadata": {},
   "source": [
    "# 3. Building own predictor"
   ]
  },
  {
   "cell_type": "markdown",
   "metadata": {},
   "source": [
    "## 3.1. Disparate treatment\n",
    "Now we study, how a score such as the COMPAS score may have been created in the first place. First, we include **race** explicitly as a model input. Note: this is something that was *not* done by Northpoint. Using such as model for court decisions would amount to a deliberate discrimination (**direct discrimination** in German law, **disparate treatment** in US law) on the basis of race."
   ]
  },
  {
   "cell_type": "code",
   "execution_count": 35,
   "metadata": {},
   "outputs": [
    {
     "data": {
      "text/plain": [
       "LogisticRegression()"
      ]
     },
     "execution_count": 35,
     "metadata": {},
     "output_type": "execute_result"
    }
   ],
   "source": [
    "# build up dummy variables for age, race, gender\n",
    "features = pd.concat(\n",
    "    [pd.get_dummies(df.age_cat, prefix='age', drop_first=True),\n",
    "     pd.get_dummies(df.sex, prefix='sex', drop_first=True),\n",
    "     pd.get_dummies(df.c_charge_degree, prefix='degree', drop_first=True),\n",
    "     pd.get_dummies(df.race, prefix='race', drop_first=True),\n",
    "     df.priors_count],\n",
    "    axis=1)\n",
    "x = features.to_numpy()\n",
    "y = df.two_year_recid.to_numpy()  \n",
    "lr = LogisticRegression()\n",
    "lr.fit(x,y) "
   ]
  },
  {
   "cell_type": "markdown",
   "metadata": {},
   "source": [
    "According to our logistic regression, the **odds** of recidivism are: \n",
    "\n",
    "- 2 times higher for people <25 years compared to people betwenn 25 and 45 years (all other things equal)\n",
    "- 1.4 times higher for males compared to woman (all other things equal)\n",
    "- only 90% for whites and 57% for asians compared to black defendants"
   ]
  },
  {
   "cell_type": "code",
   "execution_count": 39,
   "metadata": {},
   "outputs": [
    {
     "data": {
      "text/html": [
       "<div>\n",
       "<style scoped>\n",
       "    .dataframe tbody tr th:only-of-type {\n",
       "        vertical-align: middle;\n",
       "    }\n",
       "\n",
       "    .dataframe tbody tr th {\n",
       "        vertical-align: top;\n",
       "    }\n",
       "\n",
       "    .dataframe thead th {\n",
       "        text-align: right;\n",
       "    }\n",
       "</style>\n",
       "<table border=\"1\" class=\"dataframe\">\n",
       "  <thead>\n",
       "    <tr style=\"text-align: right;\">\n",
       "      <th></th>\n",
       "      <th>age_Greater than 45</th>\n",
       "      <th>age_Less than 25</th>\n",
       "      <th>sex_Male</th>\n",
       "      <th>degree_M</th>\n",
       "      <th>race_Asian</th>\n",
       "      <th>race_Caucasian</th>\n",
       "      <th>race_Hispanic</th>\n",
       "      <th>race_Native American</th>\n",
       "      <th>race_Other</th>\n",
       "      <th>priors_count</th>\n",
       "    </tr>\n",
       "  </thead>\n",
       "  <tbody>\n",
       "    <tr>\n",
       "      <th>0</th>\n",
       "      <td>0.514</td>\n",
       "      <td>2.077</td>\n",
       "      <td>1.414</td>\n",
       "      <td>0.804</td>\n",
       "      <td>0.578</td>\n",
       "      <td>0.91</td>\n",
       "      <td>0.77</td>\n",
       "      <td>0.773</td>\n",
       "      <td>0.782</td>\n",
       "      <td>1.18</td>\n",
       "    </tr>\n",
       "  </tbody>\n",
       "</table>\n",
       "</div>"
      ],
      "text/plain": [
       "   age_Greater than 45  age_Less than 25  sex_Male  degree_M  race_Asian  \\\n",
       "0                0.514             2.077     1.414     0.804       0.578   \n",
       "\n",
       "   race_Caucasian  race_Hispanic  race_Native American  race_Other  \\\n",
       "0            0.91           0.77                 0.773       0.782   \n",
       "\n",
       "   priors_count  \n",
       "0          1.18  "
      ]
     },
     "execution_count": 39,
     "metadata": {},
     "output_type": "execute_result"
    }
   ],
   "source": [
    "coeffs = pd.DataFrame(np.exp(lr.coef_), columns=features.columns)\n",
    "coeffs.round(3)"
   ]
  },
  {
   "cell_type": "markdown",
   "metadata": {},
   "source": [
    "## 3.2 Disparate impact\n",
    "\n",
    "Second, we do not include **race** into our model. We want to study, whether we still observe a **disparate impact** for black defendants due to correlated variables. Maybe, black defendants are on average younger than white defendants, such that the variable age serves as a proxy for black."
   ]
  },
  {
   "cell_type": "code",
   "execution_count": 64,
   "metadata": {},
   "outputs": [
    {
     "data": {
      "text/plain": [
       "LogisticRegression()"
      ]
     },
     "execution_count": 64,
     "metadata": {},
     "output_type": "execute_result"
    }
   ],
   "source": [
    "# build up dummy variables for age, race, gender\n",
    "features = pd.concat(\n",
    "    [pd.get_dummies(df.age_cat, prefix='age', drop_first=True),\n",
    "     pd.get_dummies(df.sex, prefix='sex', drop_first=True),\n",
    "     pd.get_dummies(df.c_charge_degree, prefix='degree', drop_first=True),\n",
    "     df.priors_count],\n",
    "    axis=1)\n",
    "x = features.to_numpy()\n",
    "y = df.two_year_recid.to_numpy()  \n",
    "lr = LogisticRegression()\n",
    "lr.fit(x,y)"
   ]
  },
  {
   "cell_type": "code",
   "execution_count": 75,
   "metadata": {},
   "outputs": [
    {
     "data": {
      "text/html": [
       "<div>\n",
       "<style scoped>\n",
       "    .dataframe tbody tr th:only-of-type {\n",
       "        vertical-align: middle;\n",
       "    }\n",
       "\n",
       "    .dataframe tbody tr th {\n",
       "        vertical-align: top;\n",
       "    }\n",
       "\n",
       "    .dataframe thead th {\n",
       "        text-align: right;\n",
       "    }\n",
       "</style>\n",
       "<table border=\"1\" class=\"dataframe\">\n",
       "  <thead>\n",
       "    <tr style=\"text-align: right;\">\n",
       "      <th>guessed</th>\n",
       "      <th>False</th>\n",
       "      <th>True</th>\n",
       "    </tr>\n",
       "    <tr>\n",
       "      <th>actual</th>\n",
       "      <th></th>\n",
       "      <th></th>\n",
       "    </tr>\n",
       "  </thead>\n",
       "  <tbody>\n",
       "    <tr>\n",
       "      <th>False</th>\n",
       "      <td>2568</td>\n",
       "      <td>795</td>\n",
       "    </tr>\n",
       "    <tr>\n",
       "      <th>True</th>\n",
       "      <td>1239</td>\n",
       "      <td>1570</td>\n",
       "    </tr>\n",
       "  </tbody>\n",
       "</table>\n",
       "</div>"
      ],
      "text/plain": [
       "guessed  False  True\n",
       "actual              \n",
       "False     2568   795\n",
       "True      1239  1570"
      ]
     },
     "execution_count": 75,
     "metadata": {},
     "output_type": "execute_result"
    }
   ],
   "source": [
    "# Confusion matrix for our predictive model\n",
    "df['own_prediction'] = lr.predict(x)==1\n",
    "cm = pd.crosstab(df.actual_recid, df.own_prediction, rownames=['actual'], colnames=['guessed'])\n",
    "cm"
   ]
  },
  {
   "cell_type": "code",
   "execution_count": 79,
   "metadata": {},
   "outputs": [
    {
     "data": {
      "text/html": [
       "<div>\n",
       "<style scoped>\n",
       "    .dataframe tbody tr th:only-of-type {\n",
       "        vertical-align: middle;\n",
       "    }\n",
       "\n",
       "    .dataframe tbody tr th {\n",
       "        vertical-align: top;\n",
       "    }\n",
       "\n",
       "    .dataframe thead th {\n",
       "        text-align: right;\n",
       "    }\n",
       "</style>\n",
       "<table border=\"1\" class=\"dataframe\">\n",
       "  <thead>\n",
       "    <tr style=\"text-align: right;\">\n",
       "      <th></th>\n",
       "      <th>Accuracy</th>\n",
       "      <th>PPV</th>\n",
       "      <th>FPR</th>\n",
       "      <th>FNR</th>\n",
       "    </tr>\n",
       "    <tr>\n",
       "      <th>race</th>\n",
       "      <th></th>\n",
       "      <th></th>\n",
       "      <th></th>\n",
       "      <th></th>\n",
       "    </tr>\n",
       "  </thead>\n",
       "  <tbody>\n",
       "    <tr>\n",
       "      <th>African-American</th>\n",
       "      <td>0.668661</td>\n",
       "      <td>0.692114</td>\n",
       "      <td>0.322325</td>\n",
       "      <td>0.339554</td>\n",
       "    </tr>\n",
       "    <tr>\n",
       "      <th>Caucasian</th>\n",
       "      <td>0.663814</td>\n",
       "      <td>0.606285</td>\n",
       "      <td>0.166276</td>\n",
       "      <td>0.600973</td>\n",
       "    </tr>\n",
       "  </tbody>\n",
       "</table>\n",
       "</div>"
      ],
      "text/plain": [
       "                  Accuracy       PPV       FPR       FNR\n",
       "race                                                    \n",
       "African-American  0.668661  0.692114  0.322325  0.339554\n",
       "Caucasian         0.663814  0.606285  0.166276  0.600973"
      ]
     },
     "execution_count": 79,
     "metadata": {},
     "output_type": "execute_result"
    }
   ],
   "source": [
    "df[df.race.isin(['African-American','Caucasian'])].groupby('race').apply(eval_metrics, \"actual_recid\", \"own_prediction\")"
   ]
  }
 ],
 "metadata": {
  "interpreter": {
   "hash": "d13b9f354fc31290086937c1849bdfbf9441b6c517a0a4b56516744dcba57762"
  },
  "kernelspec": {
   "display_name": "Python 3.10.2 ('programming')",
   "language": "python",
   "name": "python3"
  },
  "language_info": {
   "codemirror_mode": {
    "name": "ipython",
    "version": 3
   },
   "file_extension": ".py",
   "mimetype": "text/x-python",
   "name": "python",
   "nbconvert_exporter": "python",
   "pygments_lexer": "ipython3",
   "version": "3.9.6"
  },
  "orig_nbformat": 4
 },
 "nbformat": 4,
 "nbformat_minor": 2
}
